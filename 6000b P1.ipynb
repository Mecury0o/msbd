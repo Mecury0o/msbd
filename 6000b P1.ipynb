{
 "cells": [
  {
   "cell_type": "code",
   "execution_count": 2,
   "metadata": {
    "scrolled": true
   },
   "outputs": [
    {
     "name": "stdout",
     "output_type": "stream",
     "text": [
      "(3219, 57)\n",
      "(3219,)\n"
     ]
    }
   ],
   "source": [
    "import pandas as pd\n",
    "import numpy as np\n",
    "from sklearn.model_selection import cross_val_score\n",
    "from sklearn.model_selection import train_test_split\n",
    "from sklearn.decomposition import PCA\n",
    "import matplotlib.pyplot as plt\n",
    "x=pd.read_csv('traindata.csv')\n",
    "y=pd.read_csv('trainlabel.csv')\n",
    "x_test=pd.read_csv('testdata.csv')\n",
    "y=y.iloc[:,0]\n",
    "print(np.shape(X))\n",
    "print(np.shape(y))"
   ]
  },
  {
   "cell_type": "markdown",
   "metadata": {},
   "source": [
    "# normalized data with feature preprocessing using minmax scaling"
   ]
  },
  {
   "cell_type": "code",
   "execution_count": 6,
   "metadata": {
    "collapsed": true
   },
   "outputs": [],
   "source": [
    "from sklearn import preprocessing\n",
    "#scaler=preprocessing.StandardScaler().fit(X)\n",
    "#scaler=preprocessing.MinMaxScaler().fit(X)\n",
    "#scaler=preprocessing.RobustScaler().fit(X)\n",
    "scaler= preprocessing.QuantileTransformer(random_state=0).fit(X)\n",
    "x=scaler.transform(X)\n",
    "x_test=scaler.transform(X_test)"
   ]
  },
  {
   "cell_type": "markdown",
   "metadata": {},
   "source": [
    "# logistic regression"
   ]
  },
  {
   "cell_type": "code",
   "execution_count": 46,
   "metadata": {},
   "outputs": [
    {
     "name": "stdout",
     "output_type": "stream",
     "text": [
      "0.940353788053\n"
     ]
    }
   ],
   "source": [
    "from sklearn.linear_model import LogisticRegression\n",
    "lr=LogisticRegression().fit(x,y)\n",
    "cv_scores=cross_val_score(lr,x,y,cv=20)\n",
    "print(np.mean(cv_scores))"
   ]
  },
  {
   "cell_type": "markdown",
   "metadata": {},
   "source": [
    "# SVM"
   ]
  },
  {
   "cell_type": "code",
   "execution_count": 47,
   "metadata": {},
   "outputs": [
    {
     "name": "stdout",
     "output_type": "stream",
     "text": [
      "0.948104463806\n"
     ]
    }
   ],
   "source": [
    "from sklearn.svm import SVC\n",
    "#X_train,X_test,y_train,y_test=train_test_split(x,y,random_state=0)\n",
    "clf=SVC(kernel='poly',degree=2,C=200).fit(x,y)\n",
    "cv_scores=cross_val_score(clf,x,y,cv=20)\n",
    "print(np.mean(cv_scores))"
   ]
  },
  {
   "cell_type": "markdown",
   "metadata": {},
   "source": [
    "# random forest"
   ]
  },
  {
   "cell_type": "code",
   "execution_count": 3,
   "metadata": {},
   "outputs": [
    {
     "name": "stdout",
     "output_type": "stream",
     "text": [
      "0.952141802776\n"
     ]
    }
   ],
   "source": [
    "from sklearn.ensemble import RandomForestClassifier\n",
    "from sklearn.ensemble import ExtraTreesClassifier\n",
    "#clf = RandomForestClassifier(n_estimators=10,max_depth=20,min_samples_split=2, random_state=0)\n",
    "clf = ExtraTreesClassifier(n_estimators=500,max_features=2, max_depth=None,min_samples_split=2, random_state=0).fit(x,y)\n",
    "cv_scores=cross_val_score(clf,x,y,cv=20)\n",
    "print(np.mean(cv_scores))\n"
   ]
  },
  {
   "cell_type": "markdown",
   "metadata": {},
   "source": [
    "# Prediction"
   ]
  },
  {
   "cell_type": "code",
   "execution_count": 32,
   "metadata": {
    "collapsed": true
   },
   "outputs": [],
   "source": [
    "Y_test=clf.predict(x_test)\n",
    "y_test=pd.DataFrame(Y_test)\n",
    "pd.DataFrame.to_csv(y_test,path_or_buf='testlabel.csv',index=False)"
   ]
  },
  {
   "cell_type": "code",
   "execution_count": null,
   "metadata": {
    "collapsed": true
   },
   "outputs": [],
   "source": []
  }
 ],
 "metadata": {
  "kernelspec": {
   "display_name": "Python 2",
   "language": "python",
   "name": "python2"
  },
  "language_info": {
   "codemirror_mode": {
    "name": "ipython",
    "version": 2
   },
   "file_extension": ".py",
   "mimetype": "text/x-python",
   "name": "python",
   "nbconvert_exporter": "python",
   "pygments_lexer": "ipython2",
   "version": "2.7.14"
  }
 },
 "nbformat": 4,
 "nbformat_minor": 2
}
